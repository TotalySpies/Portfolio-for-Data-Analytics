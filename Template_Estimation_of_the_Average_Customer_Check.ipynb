{
  "nbformat": 4,
  "nbformat_minor": 0,
  "metadata": {
    "colab": {
      "provenance": [],
      "authorship_tag": "ABX9TyOB8cResI81jkZRb1fF2jHr",
      "include_colab_link": true
    },
    "kernelspec": {
      "name": "python3",
      "display_name": "Python 3"
    },
    "language_info": {
      "name": "python"
    }
  },
  "cells": [
    {
      "cell_type": "markdown",
      "metadata": {
        "id": "view-in-github",
        "colab_type": "text"
      },
      "source": [
        "<a href=\"https://colab.research.google.com/github/TotalySpies/Portfolio-for-Data-Analytics/blob/main/Template_Estimation_of_the_Average_Customer_Check.ipynb\" target=\"_parent\"><img src=\"https://colab.research.google.com/assets/colab-badge.svg\" alt=\"Open In Colab\"/></a>"
      ]
    },
    {
      "cell_type": "markdown",
      "source": [
        "Multiple linear regression\n",
        "Власник інтернет-магазину хоче зрозуміти, які фактори впливають на середній чек клієнта (цільова змінна). Для цього можна побудувати багатофакторну лінійну регресійну модель, яка прогнозуватиме середній чек клієнта на основі кількох пояснюючих змінних.\n",
        "Опис даних:\n",
        "Цільова змінна ( y ): Середній чек клієнта (грн).\n",
        "Пояснюючі змінні:\n",
        "x1 : Кількість товарів у кошику.\n",
        "x2 : Середня ціна одиниці товару (грн).\n",
        "x3 : Відсоток знижки, застосованої до замовлення (%).\n",
        "x4 : Час, проведений на сайті перед оформленням замовлення (хвилини).\n",
        "Вихідні дані:"
      ],
      "metadata": {
        "id": "As8P3jw99IDT"
      }
    },
    {
      "cell_type": "code",
      "execution_count": null,
      "metadata": {
        "id": "g8ewjBbC8zn3"
      },
      "outputs": [],
      "source": [
        "import pandas as pd\n",
        "from sklearn.linear_model import LinearRegression\n",
        "from sklearn.model_selection import train_test_split\n",
        "from sklearn.metrics import mean_absolute_error, mean_squared_error, r2_score,root_mean_squared_error\n",
        "from sklearn.model_selection import cross_val_score\n",
        "import matplotlib.pyplot as plt\n",
        "\n",
        "\n",
        "# x1: Number of items in the cart (Items_in_Cart)\n",
        "num_items = [4, 8, 3, 7, 2, 6, 1, 5, 9, 2, 8, 4, 7, 3, 6, 2, 5, 9, 1, 4,\n",
        "             7, 6, 3, 8, 2, 5, 4, 9, 7, 2, 6, 3, 8, 5, 1, 7, 9, 4, 6, 2]\n",
        "\n",
        "# x2: Average price per item in the cart (in UAH) (Average_Item_Price)\n",
        "avg_price = [150.8, 230.5, 175.2, 310.1, 200.0, 320.4, 120.5, 270.6, 450.2, 210.7,\n",
        "             180.5, 350.1, 290.3, 410.5, 250.8, 280.7, 300.5, 490.1, 130.2, 260.5,\n",
        "             340.8, 220.1, 170.5, 310.3, 180.6, 260.4, 300.9, 420.7, 290.5, 200.1,\n",
        "             310.6, 150.5, 370.2, 280.5, 180.1, 400.7, 430.6, 270.5, 320.2, 150.6]\n",
        "\n",
        "# x3: Discount percentage applied to the order (Discount_Percentage)\n",
        "discount = [5.0, 10.5, 15.0, 8.5, 12.0, 20.0, 7.0, 14.0, 25.0, 6.5,\n",
        "            9.0, 11.5, 22.0, 18.0, 10.0, 5.5, 16.0, 24.0, 13.0, 8.0,\n",
        "            15.5, 17.0, 9.5, 19.0, 21.0, 7.5, 14.5, 25.0, 11.0, 10.0,\n",
        "            20.5, 6.0, 13.5, 18.5, 8.5, 22.5, 24.5, 12.5, 14.0, 10.5]\n",
        "\n",
        "# x4: Time spent on the website before placing the order (in minutes) (Time_on_Site)\n",
        "time_spent = [25.0, 35.5, 28.0, 40.5, 22.0, 50.0, 18.5, 33.0, 48.5, 30.0,\n",
        "              27.5, 38.0, 44.5, 39.0, 31.5, 29.0, 34.5, 49.0, 24.0, 32.0,\n",
        "              37.5, 41.0, 26.0, 42.5, 23.5, 36.0, 30.5, 47.0, 29.5, 34.0,\n",
        "              40.0, 28.5, 39.5, 43.0, 25.5, 45.5, 46.5, 30.0, 33.5, 27.0]\n",
        "\n",
        "# y: Average order value (in UAH) (Average_Check)\n",
        "avg_order = [950, 1780, 1120, 2250, 870, 2000, 650, 1600, 3200, 1050,\n",
        "             1250, 2500, 2100, 2800, 1800, 1650, 1900, 3400, 750, 1550,\n",
        "             2300, 1850, 1150, 2400, 890, 1700, 1950, 3100, 2200, 1450,\n",
        "             2000, 950, 2500, 1750, 1250, 2850, 3300, 1550, 2100, 950]\n",
        "\n",
        "data = pd.DataFrame({'avg_order': avg_order,\n",
        "                     'num_items': num_items,\n",
        "                     'avg_price': avg_price,\n",
        "                     'discount': discount,\n",
        "                     'time_spent': time_spent\n",
        "                     })"
      ]
    },
    {
      "cell_type": "code",
      "source": [
        "#GET DATA\n",
        "X=data[[\"num_items\",\"avg_price\",\"discount\",\"time_spent\"]]\n",
        "y=data[\"avg_order\"]\n",
        "#SPLIT DATA TRAIN AND TEST\n",
        "X_train,X_test,y_train,y_test = train_test_split(X,y,test_size = 0.2,random_state=42)\n",
        "#MODEL TRAINING Навчи модель лінійної регресії на тренувальних даних.\n",
        "model = LinearRegression()\n",
        "model.fit(X_train,y_train)\n",
        "#PREDICTION/ Передбачування для тестових даних\n",
        "y_pred=model.predict(X_test)\n",
        "\n",
        "print(\"Tran data:\\n\",y_train.index)\n",
        "print(\"Test data:\\n\",y_test.index)\n",
        "\n"
      ],
      "metadata": {
        "colab": {
          "base_uri": "https://localhost:8080/"
        },
        "id": "YZMNPJAB99Gx",
        "outputId": "a77d87ae-f85f-4faf-bb40-dc60e6a1a568"
      },
      "execution_count": null,
      "outputs": [
        {
          "output_type": "stream",
          "name": "stdout",
          "text": [
            "Tran data:\n",
            " Index([39,  6, 25,  9, 13, 31, 34,  8, 17, 24,  0, 33,  5, 11,  1, 29, 21,  2,\n",
            "       30, 36,  3, 35, 23, 32, 10, 22, 18, 20,  7, 14, 28, 38],\n",
            "      dtype='int64')\n",
            "Test data:\n",
            " Index([19, 16, 15, 26, 4, 12, 37, 27], dtype='int64')\n"
          ]
        }
      ]
    },
    {
      "cell_type": "code",
      "source": [
        "#Metrics/Метрики\n",
        "mae = mean_absolute_error(y_test,y_pred)\n",
        "mse = mean_squared_error(y_test,y_pred)\n",
        "rmse = root_mean_squared_error(y_test,y_pred)\n",
        "r2 = r2_score(y_test,y_pred)\n",
        "\n",
        "print(\"MAE:\",mae)\n",
        "print(\"MSE:\",mse)\n",
        "print(\"RMSE:\",rmse)\n",
        "print(\"R2:\",r2)"
      ],
      "metadata": {
        "colab": {
          "base_uri": "https://localhost:8080/"
        },
        "id": "nKL4VlJlAkMD",
        "outputId": "e7fe184f-acc6-441c-d45d-2536fe60fadd"
      },
      "execution_count": null,
      "outputs": [
        {
          "output_type": "stream",
          "name": "stdout",
          "text": [
            "MAE: 150.9396884220765\n",
            "MSE: 31863.056549027806\n",
            "RMSE: 178.50225922667704\n",
            "R2: 0.9094731216783147\n"
          ]
        }
      ]
    },
    {
      "cell_type": "markdown",
      "source": [
        "MAE 150.9 = 151 = що середня помилка у чеку 151 гривня, що не погано при чеку 1500-2000грн\n",
        "R2 = 90% = озночає що модель адекватно влювлює модель даних"
      ],
      "metadata": {
        "id": "jntwCvU5CGRw"
      }
    },
    {
      "cell_type": "code",
      "source": [
        "#CROSS VALIDATION/ КРОС ВАЛІДАЦІЯ\n",
        "#MAE\n",
        "model = LinearRegression()\n",
        "scores = cross_val_score(model, X, y, cv=5, scoring=\"neg_mean_absolute_error\")\n",
        "print(\"Cross-validation MAE scores:\", scores)\n",
        "print(\"Mean cross-validation MAE score:\", scores.mean())\n",
        "\n",
        "#MSE\n",
        "model = LinearRegression()\n",
        "scores = cross_val_score(model, X, y, cv=5, scoring=\"neg_mean_squared_error\")\n",
        "print(\"Cross-validation MSE scores:\", scores)\n",
        "print(\"Mean cross-validation MSE score:\", scores.mean())\n",
        "\n",
        "#R2\n",
        "model = LinearRegression()\n",
        "scores = cross_val_score(model, X, y, cv=5, scoring=\"r2\")\n",
        "print(\"Cross-validation R2 scores:\", scores)\n",
        "print(\"Mean cross-validation R2 score:\", scores.mean())"
      ],
      "metadata": {
        "colab": {
          "base_uri": "https://localhost:8080/"
        },
        "id": "0RGybb3rCU3X",
        "outputId": "4ec8ad57-bbb3-4a4b-e968-9a95a209cf8d"
      },
      "execution_count": null,
      "outputs": [
        {
          "output_type": "stream",
          "name": "stdout",
          "text": [
            "Cross-validation MAE scores: [-129.2032032  -166.2782     -156.15597443 -119.08749059 -147.72852745]\n",
            "Mean cross-validation MAE score: -143.6906791344169\n",
            "Cross-validation MSE scores: [-32264.99282812 -45261.98868683 -29895.42622989 -20501.46456629\n",
            " -27028.53733588]\n",
            "Mean cross-validation MSE score: -30990.48192940081\n",
            "Cross-validation R2 scores: [0.89205197 0.90838089 0.94877357 0.95434481 0.9529395 ]\n",
            "Mean cross-validation R2 score: 0.9312981450611307\n"
          ]
        }
      ]
    },
    {
      "cell_type": "code",
      "source": [
        "model = LinearRegression()\n",
        "model.fit(X_train, y_train)\n",
        "\n",
        "coefficients = pd.Series(model.coef_, index=X.columns)\n",
        "intercept = model.intercept_\n",
        "\n",
        "print(\"Коефіцієнти:\")\n",
        "print(coefficients)\n",
        "print(\"\\nПеретин з віссю (intercept):\", intercept)"
      ],
      "metadata": {
        "colab": {
          "base_uri": "https://localhost:8080/"
        },
        "id": "F0GoHeAzEYwG",
        "outputId": "5811a05b-886c-4b69-baec-dc39c5c95ffc"
      },
      "execution_count": null,
      "outputs": [
        {
          "output_type": "stream",
          "name": "stdout",
          "text": [
            "Коефіцієнти:\n",
            "num_items     39.671287\n",
            "avg_price      6.634942\n",
            "discount      -3.731778\n",
            "time_spent     4.029648\n",
            "dtype: float64\n",
            "\n",
            "Перетин з віссю (intercept): -243.63791103103904\n"
          ]
        }
      ]
    },
    {
      "cell_type": "markdown",
      "source": [
        "CONCLUSIONS ON METRICS/ ВИСНОВКИ ПО МЕТРИКАМ\n",
        "Модель лінійної регресії показала високий рівень точності на тестових даних (R² = 0.91) та стабільність на крос-валідації (середній R² = 0.93).\n",
        "Аналіз коефіцієнтів показав, що найбільший позитивний вплив на середній чек має кількість товарів у кошику та середня ціна за товар.\n",
        "Натомість, збільшення розміру знижки має негативний вплив на чек.\n",
        "Час, проведений на сайті, також позитивно корелює з обсягом покупки.\n"
      ],
      "metadata": {
        "id": "_4DmQCwaEibd"
      }
    },
    {
      "cell_type": "code",
      "source": [
        "from sklearn.preprocessing import StandardScaler\n",
        "\n",
        "# standartization\n",
        "scaler = StandardScaler()\n",
        "X_scaled = scaler.fit_transform(X)\n",
        "\n",
        "print(X_scaled)"
      ],
      "metadata": {
        "colab": {
          "base_uri": "https://localhost:8080/"
        },
        "id": "PG0AusdsEkm6",
        "outputId": "0c684465-ea32-45e2-f428-49b1a6d0d8dc"
      },
      "execution_count": null,
      "outputs": [
        {
          "output_type": "stream",
          "name": "stdout",
          "text": [
            "[[-0.40160966 -1.32073991 -1.53909585 -1.17997941]\n",
            " [ 1.20482899 -0.46330521 -0.60244001  0.10227506]\n",
            " [-0.80321933 -1.05823794  0.16391477 -0.81362099]\n",
            " [ 0.80321933  0.39305366 -0.94304213  0.71287243]\n",
            " [-1.20482899 -0.79143267 -0.34698841 -1.54633783]\n",
            " [ 0.40160966  0.50386392  1.01542008  1.87300742]\n",
            " [-1.60643866 -1.64671571 -1.19849372 -1.97375599]\n",
            " [ 0.         -0.03189829 -0.00638629 -0.20302362]\n",
            " [ 1.60643866  1.9002883   1.86692539  1.68982821]\n",
            " [-1.20482899 -0.6763191  -1.28364425 -0.56938204]\n",
            " [ 1.20482899 -1.00121907 -0.8578916  -0.87468073]\n",
            " [-0.40160966  0.82338475 -0.43213894  0.40757374]\n",
            " [ 0.80321933  0.18003977  1.3560222   1.20135032]\n",
            " [-0.80321933  1.4731847   0.67481796  0.52969322]\n",
            " [ 0.40160966 -0.24491218 -0.68759054 -0.38620283]\n",
            " [-1.20482899  0.07676031 -1.45394531 -0.69150152]\n",
            " [ 0.          0.2897742   0.33421583 -0.01984441]\n",
            " [ 1.60643866  2.32954356  1.69662433  1.75088795]\n",
            " [-1.60643866 -1.54236042 -0.17668735 -1.30209888]\n",
            " [-0.40160966 -0.14055689 -1.02819266 -0.3251431 ]\n",
            " [ 0.80321933  0.72333277  0.2490653   0.34651401]\n",
            " [ 0.40160966 -0.57519129  0.5045169   0.77393216]\n",
            " [-0.80321933 -1.10880184 -0.77274107 -1.05785994]\n",
            " [ 1.20482899  0.39520531  0.84511902  0.95711137]\n",
            " [-1.20482899 -1.00014324  1.18572114 -1.36315862]\n",
            " [ 0.         -0.14163272 -1.11334319  0.1633348 ]\n",
            " [-0.40160966  0.29407751  0.07876424 -0.50832231]\n",
            " [ 1.60643866  1.58291912  1.86692539  1.506649  ]\n",
            " [ 0.80321933  0.18219143 -0.51728947 -0.63044178]\n",
            " [-1.20482899 -0.79035684 -0.68759054 -0.08090415]\n",
            " [ 0.40160966  0.3984328   1.10057061  0.65181269]\n",
            " [-0.80321933 -1.32396739 -1.36879478 -0.75256125]\n",
            " [ 1.20482899  1.03962612 -0.09153682  0.59075295]\n",
            " [ 0.          0.07460865  0.75996849  1.01817111]\n",
            " [-1.60643866 -1.00552238 -0.94304213 -1.11891967]\n",
            " [ 0.80321933  1.36775358  1.44117273  1.32346979]\n",
            " [ 1.60643866  1.68942607  1.78177486  1.44558927]\n",
            " [-0.40160966 -0.03297412 -0.26183788 -0.56938204]\n",
            " [ 0.40160966  0.50171226 -0.00638629 -0.14196389]\n",
            " [-1.20482899 -1.32289156 -0.60244001 -0.93574046]]\n"
          ]
        }
      ]
    },
    {
      "cell_type": "code",
      "source": [
        "# split data into train and test\n",
        "X_train, X_test, y_train, y_test = train_test_split(X_scaled, y, test_size=0.3, random_state=2024)\n",
        "\n",
        "# model training\n",
        "model = LinearRegression()\n",
        "model.fit(X_train, y_train)\n",
        "\n",
        "# making prediction\n",
        "y_pred = model.predict(X_test)\n",
        "\n",
        "# get coefficients\n",
        "print(\"coefficients:\", model.coef_)"
      ],
      "metadata": {
        "colab": {
          "base_uri": "https://localhost:8080/"
        },
        "id": "pscHghQLFCE9",
        "outputId": "b652e7ce-8941-404f-ef3b-c1e9a4ce9fee"
      },
      "execution_count": null,
      "outputs": [
        {
          "output_type": "stream",
          "name": "stdout",
          "text": [
            "coefficients: [120.19143573 649.14086071 -13.5531571  -15.39213751]\n"
          ]
        }
      ]
    },
    {
      "cell_type": "code",
      "source": [
        "import matplotlib.pyplot as plt\n",
        "\n",
        "data = model.coef_\n",
        "\n",
        "plt.figure(figsize=(10, 5))\n",
        "plt.bar(range(len(data)), data,\n",
        "        tick_label=[\"num_items\",\"avg_price\",\"discount\",\"time_spent\"])\n",
        "plt.title(\"Revenue in Linear Regression Model\")\n",
        "plt.xlabel(\"Revenue\")\n",
        "plt.ylabel(\"Coefficient Value\")\n",
        "plt.show()"
      ],
      "metadata": {
        "colab": {
          "base_uri": "https://localhost:8080/",
          "height": 487
        },
        "id": "x2mzmdfiFLtB",
        "outputId": "70ee9d42-c15d-4b9a-a75b-1556a1eefba5"
      },
      "execution_count": null,
      "outputs": [
        {
          "output_type": "display_data",
          "data": {
            "text/plain": [
              "<Figure size 1000x500 with 1 Axes>"
            ],
            "image/png": "[encoded data removed]"
          },
          "metadata": {}
        }
      ]
    },
    {
      "cell_type": "code",
      "source": [
        "X.corr()"
      ],
      "metadata": {
        "colab": {
          "base_uri": "https://localhost:8080/",
          "height": 175
        },
        "id": "EHPG3JKwnEs0",
        "outputId": "240fee88-8408-4597-92e9-f9a509e4def5"
      },
      "execution_count": null,
      "outputs": [
        {
          "output_type": "execute_result",
          "data": {
            "text/plain": [
              "            num_items  avg_price  discount  time_spent\n",
              "num_items    1.000000   0.711856  0.566820    0.763866\n",
              "avg_price    0.711856   1.000000  0.690811    0.835995\n",
              "discount     0.566820   0.690811  1.000000    0.729461\n",
              "time_spent   0.763866   0.835995  0.729461    1.000000"
            ],
            "text/html": [
              "\n",
              "  <div id=\"df-851ff8b1-d0b1-4dd4-9139-0899d473c939\" class=\"colab-df-container\">\n",
              "    <div>\n",
              "<style scoped>\n",
              "    .dataframe tbody tr th:only-of-type {\n",
              "        vertical-align: middle;\n",
              "    }\n",
              "\n",
              "    .dataframe tbody tr th {\n",
              "        vertical-align: top;\n",
              "    }\n",
              "\n",
              "    .dataframe thead th {\n",
              "        text-align: right;\n",
              "    }\n",
              "</style>\n",
              "<table border=\"1\" class=\"dataframe\">\n",
              "  <thead>\n",
              "    <tr style=\"text-align: right;\">\n",
              "      <th></th>\n",
              "      <th>num_items</th>\n",
              "      <th>avg_price</th>\n",
              "      <th>discount</th>\n",
              "      <th>time_spent</th>\n",
              "    </tr>\n",
              "  </thead>\n",
              "  <tbody>\n",
              "    <tr>\n",
              "      <th>num_items</th>\n",
              "      <td>1.000000</td>\n",
              "      <td>0.711856</td>\n",
              "      <td>0.566820</td>\n",
              "      <td>0.763866</td>\n",
              "    </tr>\n",
              "    <tr>\n",
              "      <th>avg_price</th>\n",
              "      <td>0.711856</td>\n",
              "      <td>1.000000</td>\n",
              "      <td>0.690811</td>\n",
              "      <td>0.835995</td>\n",
              "    </tr>\n",
              "    <tr>\n",
              "      <th>discount</th>\n",
              "      <td>0.566820</td>\n",
              "      <td>0.690811</td>\n",
              "      <td>1.000000</td>\n",
              "      <td>0.729461</td>\n",
              "    </tr>\n",
              "    <tr>\n",
              "      <th>time_spent</th>\n",
              "      <td>0.763866</td>\n",
              "      <td>0.835995</td>\n",
              "      <td>0.729461</td>\n",
              "      <td>1.000000</td>\n",
              "    </tr>\n",
              "  </tbody>\n",
              "</table>\n",
              "</div>\n",
              "    <div class=\"colab-df-buttons\">\n",
              "\n",
              "  <div class=\"colab-df-container\">\n",
              "    <button class=\"colab-df-convert\" onclick=\"convertToInteractive('df-851ff8b1-d0b1-4dd4-9139-0899d473c939')\"\n",
              "            title=\"Convert this dataframe to an interactive table.\"\n",
              "            style=\"display:none;\">\n",
              "\n",
              "  <svg xmlns=\"http://www.w3.org/2000/svg\" height=\"24px\" viewBox=\"0 -960 960 960\">\n",
              "    <path d=\"M120-120v-720h720v720H120Zm60-500h600v-160H180v160Zm220 220h160v-160H400v160Zm0 220h160v-160H400v160ZM180-400h160v-160H180v160Zm440 0h160v-160H620v160ZM180-180h160v-160H180v160Zm440 0h160v-160H620v160Z\"/>\n",
              "  </svg>\n",
              "    </button>\n",
              "\n",
              "  <style>\n",
              "    .colab-df-container {\n",
              "      display:flex;\n",
              "      gap: 12px;\n",
              "    }\n",
              "\n",
              "    .colab-df-convert {\n",
              "      background-color: #E8F0FE;\n",
              "      border: none;\n",
              "      border-radius: 50%;\n",
              "      cursor: pointer;\n",
              "      display: none;\n",
              "      fill: #1967D2;\n",
              "      height: 32px;\n",
              "      padding: 0 0 0 0;\n",
              "      width: 32px;\n",
              "    }\n",
              "\n",
              "    .colab-df-convert:hover {\n",
              "      background-color: #E2EBFA;\n",
              "      box-shadow: 0px 1px 2px rgba(60, 64, 67, 0.3), 0px 1px 3px 1px rgba(60, 64, 67, 0.15);\n",
              "      fill: #174EA6;\n",
              "    }\n",
              "\n",
              "    .colab-df-buttons div {\n",
              "      margin-bottom: 4px;\n",
              "    }\n",
              "\n",
              "    [theme=dark] .colab-df-convert {\n",
              "      background-color: #3B4455;\n",
              "      fill: #D2E3FC;\n",
              "    }\n",
              "\n",
              "    [theme=dark] .colab-df-convert:hover {\n",
              "      background-color: #434B5C;\n",
              "      box-shadow: 0px 1px 3px 1px rgba(0, 0, 0, 0.15);\n",
              "      filter: drop-shadow(0px 1px 2px rgba(0, 0, 0, 0.3));\n",
              "      fill: #FFFFFF;\n",
              "    }\n",
              "  </style>\n",
              "\n",
              "    <script>\n",
              "      const buttonEl =\n",
              "        document.querySelector('#df-851ff8b1-d0b1-4dd4-9139-0899d473c939 button.colab-df-convert');\n",
              "      buttonEl.style.display =\n",
              "        google.colab.kernel.accessAllowed ? 'block' : 'none';\n",
              "\n",
              "      async function convertToInteractive(key) {\n",
              "        const element = document.querySelector('#df-851ff8b1-d0b1-4dd4-9139-0899d473c939');\n",
              "        const dataTable =\n",
              "          await google.colab.kernel.invokeFunction('convertToInteractive',\n",
              "                                                    [key], {});\n",
              "        if (!dataTable) return;\n",
              "\n",
              "        const docLinkHtml = 'Like what you see? Visit the ' +\n",
              "          '<a target=\"_blank\" href=https://colab.research.google.com/notebooks/data_table.ipynb>data table notebook</a>'\n",
              "          + ' to learn more about interactive tables.';\n",
              "        element.innerHTML = '';\n",
              "        dataTable['output_type'] = 'display_data';\n",
              "        await google.colab.output.renderOutput(dataTable, element);\n",
              "        const docLink = document.createElement('div');\n",
              "        docLink.innerHTML = docLinkHtml;\n",
              "        element.appendChild(docLink);\n",
              "      }\n",
              "    </script>\n",
              "  </div>\n",
              "\n",
              "\n",
              "    <div id=\"df-55b0eefc-3ae4-4ee3-8a7b-b3b66bd6223a\">\n",
              "      <button class=\"colab-df-quickchart\" onclick=\"quickchart('df-55b0eefc-3ae4-4ee3-8a7b-b3b66bd6223a')\"\n",
              "                title=\"Suggest charts\"\n",
              "                style=\"display:none;\">\n",
              "\n",
              "<svg xmlns=\"http://www.w3.org/2000/svg\" height=\"24px\"viewBox=\"0 0 24 24\"\n",
              "     width=\"24px\">\n",
              "    <g>\n",
              "        <path d=\"M19 3H5c-1.1 0-2 .9-2 2v14c0 1.1.9 2 2 2h14c1.1 0 2-.9 2-2V5c0-1.1-.9-2-2-2zM9 17H7v-7h2v7zm4 0h-2V7h2v10zm4 0h-2v-4h2v4z\"/>\n",
              "    </g>\n",
              "</svg>\n",
              "      </button>\n",
              "\n",
              "<style>\n",
              "  .colab-df-quickchart {\n",
              "      --bg-color: #E8F0FE;\n",
              "      --fill-color: #1967D2;\n",
              "      --hover-bg-color: #E2EBFA;\n",
              "      --hover-fill-color: #174EA6;\n",
              "      --disabled-fill-color: #AAA;\n",
              "      --disabled-bg-color: #DDD;\n",
              "  }\n",
              "\n",
              "  [theme=dark] .colab-df-quickchart {\n",
              "      --bg-color: #3B4455;\n",
              "      --fill-color: #D2E3FC;\n",
              "      --hover-bg-color: #434B5C;\n",
              "      --hover-fill-color: #FFFFFF;\n",
              "      --disabled-bg-color: #3B4455;\n",
              "      --disabled-fill-color: #666;\n",
              "  }\n",
              "\n",
              "  .colab-df-quickchart {\n",
              "    background-color: var(--bg-color);\n",
              "    border: none;\n",
              "    border-radius: 50%;\n",
              "    cursor: pointer;\n",
              "    display: none;\n",
              "    fill: var(--fill-color);\n",
              "    height: 32px;\n",
              "    padding: 0;\n",
              "    width: 32px;\n",
              "  }\n",
              "\n",
              "  .colab-df-quickchart:hover {\n",
              "    background-color: var(--hover-bg-color);\n",
              "    box-shadow: 0 1px 2px rgba(60, 64, 67, 0.3), 0 1px 3px 1px rgba(60, 64, 67, 0.15);\n",
              "    fill: var(--button-hover-fill-color);\n",
              "  }\n",
              "\n",
              "  .colab-df-quickchart-complete:disabled,\n",
              "  .colab-df-quickchart-complete:disabled:hover {\n",
              "    background-color: var(--disabled-bg-color);\n",
              "    fill: var(--disabled-fill-color);\n",
              "    box-shadow: none;\n",
              "  }\n",
              "\n",
              "  .colab-df-spinner {\n",
              "    border: 2px solid var(--fill-color);\n",
              "    border-color: transparent;\n",
              "    border-bottom-color: var(--fill-color);\n",
              "    animation:\n",
              "      spin 1s steps(1) infinite;\n",
              "  }\n",
              "\n",
              "  @keyframes spin {\n",
              "    0% {\n",
              "      border-color: transparent;\n",
              "      border-bottom-color: var(--fill-color);\n",
              "      border-left-color: var(--fill-color);\n",
              "    }\n",
              "    20% {\n",
              "      border-color: transparent;\n",
              "      border-left-color: var(--fill-color);\n",
              "      border-top-color: var(--fill-color);\n",
              "    }\n",
              "    30% {\n",
              "      border-color: transparent;\n",
              "      border-left-color: var(--fill-color);\n",
              "      border-top-color: var(--fill-color);\n",
              "      border-right-color: var(--fill-color);\n",
              "    }\n",
              "    40% {\n",
              "      border-color: transparent;\n",
              "      border-right-color: var(--fill-color);\n",
              "      border-top-color: var(--fill-color);\n",
              "    }\n",
              "    60% {\n",
              "      border-color: transparent;\n",
              "      border-right-color: var(--fill-color);\n",
              "    }\n",
              "    80% {\n",
              "      border-color: transparent;\n",
              "      border-right-color: var(--fill-color);\n",
              "      border-bottom-color: var(--fill-color);\n",
              "    }\n",
              "    90% {\n",
              "      border-color: transparent;\n",
              "      border-bottom-color: var(--fill-color);\n",
              "    }\n",
              "  }\n",
              "</style>\n",
              "\n",
              "      <script>\n",
              "        async function quickchart(key) {\n",
              "          const quickchartButtonEl =\n",
              "            document.querySelector('#' + key + ' button');\n",
              "          quickchartButtonEl.disabled = true;  // To prevent multiple clicks.\n",
              "          quickchartButtonEl.classList.add('colab-df-spinner');\n",
              "          try {\n",
              "            const charts = await google.colab.kernel.invokeFunction(\n",
              "                'suggestCharts', [key], {});\n",
              "          } catch (error) {\n",
              "            console.error('Error during call to suggestCharts:', error);\n",
              "          }\n",
              "          quickchartButtonEl.classList.remove('colab-df-spinner');\n",
              "          quickchartButtonEl.classList.add('colab-df-quickchart-complete');\n",
              "        }\n",
              "        (() => {\n",
              "          let quickchartButtonEl =\n",
              "            document.querySelector('#df-55b0eefc-3ae4-4ee3-8a7b-b3b66bd6223a button');\n",
              "          quickchartButtonEl.style.display =\n",
              "            google.colab.kernel.accessAllowed ? 'block' : 'none';\n",
              "        })();\n",
              "      </script>\n",
              "    </div>\n",
              "    </div>\n",
              "  </div>\n"
            ],
            "application/vnd.google.colaboratory.intrinsic+json": {
              "type": "dataframe",
              "summary": "{\n  \"name\": \"X\",\n  \"rows\": 4,\n  \"fields\": [\n    {\n      \"column\": \"num_items\",\n      \"properties\": {\n        \"dtype\": \"number\",\n        \"std\": 0.18004606413270297,\n        \"min\": 0.5668198517046882,\n        \"max\": 1.0,\n        \"num_unique_values\": 4,\n        \"samples\": [\n          0.7118558869957158,\n          0.7638659179036028,\n          1.0\n        ],\n        \"semantic_type\": \"\",\n        \"description\": \"\"\n      }\n    },\n    {\n      \"column\": \"avg_price\",\n      \"properties\": {\n        \"dtype\": \"number\",\n        \"std\": 0.14214268837191785,\n        \"min\": 0.6908107781039484,\n        \"max\": 1.0,\n        \"num_unique_values\": 4,\n        \"samples\": [\n          1.0,\n          0.8359950341684097,\n          0.7118558869957158\n        ],\n        \"semantic_type\": \"\",\n        \"description\": \"\"\n      }\n    },\n    {\n      \"column\": \"discount\",\n      \"properties\": {\n        \"dtype\": \"number\",\n        \"std\": 0.1825180680639686,\n        \"min\": 0.5668198517046882,\n        \"max\": 1.0,\n        \"num_unique_values\": 4,\n        \"samples\": [\n          0.6908107781039484,\n          0.7294606887854594,\n          0.5668198517046882\n        ],\n        \"semantic_type\": \"\",\n        \"description\": \"\"\n      }\n    },\n    {\n      \"column\": \"time_spent\",\n      \"properties\": {\n        \"dtype\": \"number\",\n        \"std\": 0.12027203485133015,\n        \"min\": 0.7294606887854594,\n        \"max\": 1.0,\n        \"num_unique_values\": 4,\n        \"samples\": [\n          0.8359950341684097,\n          1.0,\n          0.7638659179036028\n        ],\n        \"semantic_type\": \"\",\n        \"description\": \"\"\n      }\n    }\n  ]\n}"
            }
          },
          "metadata": {},
          "execution_count": 7
        }
      ]
    },
    {
      "cell_type": "code",
      "source": [
        "from sklearn.linear_model import Ridge, Lasso\n",
        "\n",
        "# split data into train and test\n",
        "X_train, X_test, y_train, y_test = train_test_split(X, y, test_size=0.2, random_state=42)\n",
        "\n",
        "# train basic model\n",
        "lin_reg = LinearRegression()\n",
        "lin_reg.fit(X_train, y_train)\n",
        "\n",
        "# evaluate basic model\n",
        "y_pred_linreg = lin_reg.predict(X_test)\n",
        "print(\"MSE (Linear model without regularization):\", mean_squared_error(y_test, y_pred_linreg))\n",
        "print(\"R2 (Linear model without regularization):\", r2_score(y_test, y_pred_linreg))\n",
        "\n",
        "# train Ridge model\n",
        "ridge = Ridge()\n",
        "ridge.fit(X_train, y_train)\n",
        "\n",
        "# evaluate Ridge model\n",
        "y_pred_ridge = ridge.predict(X_test)\n",
        "print(\"MSE (Ridge model):\", mean_squared_error(y_test, y_pred_ridge))\n",
        "print(\"R2 (Ridge model):\", r2_score(y_test, y_pred_ridge))\n",
        "\n",
        "# train Lasso model\n",
        "lasso = Lasso()\n",
        "lasso.fit(X_train, y_train)\n",
        "\n",
        "# evaluate Lasso model\n",
        "y_pred_lasso = lasso.predict(X_test)\n",
        "print(\"MSE (Lasso model):\", mean_squared_error(y_test, y_pred_lasso))\n",
        "print(\"R2 (Lasso model):\", r2_score(y_test, y_pred_lasso))"
      ],
      "metadata": {
        "colab": {
          "base_uri": "https://localhost:8080/"
        },
        "id": "xG2L0zeEo3BG",
        "outputId": "aab548d9-dbc1-4c6b-d6d7-08c382832026"
      },
      "execution_count": null,
      "outputs": [
        {
          "output_type": "stream",
          "name": "stdout",
          "text": [
            "MSE (Linear model without regularization): 31863.056549027806\n",
            "R2 (Linear model without regularization): 0.9094731216783147\n",
            "MSE (Ridge model): 31990.421130390576\n",
            "R2 (Ridge model): 0.9091112631748225\n",
            "MSE (Lasso model): 31997.742728242767\n",
            "R2 (Lasso model): 0.9090904616112039\n"
          ]
        }
      ]
    },
    {
      "cell_type": "code",
      "source": [
        "# hyperparameter tuning in Ridge model\n",
        "possible_alpha = [0.001, 0.01, 0.1, 1, 10, 100, 1000]\n",
        "r2_scores = []\n",
        "for alpha in possible_alpha:\n",
        "  ridge = Ridge(alpha=alpha)\n",
        "  ridge.fit(X_train, y_train)\n",
        "  y_pred_ridge = ridge.predict(X_test)\n",
        "  r2_scores.append(r2_score(y_test, y_pred_ridge))\n",
        "\n",
        "# plot validation curve\n",
        "plt.plot(possible_alpha, r2_scores, marker=\"o\")\n",
        "plt.xlabel(\"alpha\")\n",
        "plt.ylabel(\"R2 score\")\n",
        "plt.title(\"Validation curve for Ridge model\")\n",
        "plt.show()"
      ],
      "metadata": {
        "colab": {
          "base_uri": "https://localhost:8080/",
          "height": 472
        },
        "id": "6voU5q0ZpOzi",
        "outputId": "06642de1-df9e-4f73-8764-d4e315c06e90"
      },
      "execution_count": null,
      "outputs": [
        {
          "output_type": "display_data",
          "data": {
            "text/plain": [
              "<Figure size 640x480 with 1 Axes>"
            ],
            "image/png": "[encoded data removed]"
          },
          "metadata": {}
        }
      ]
    },
    {
      "cell_type": "code",
      "source": [
        "#when find the best \"alpha\"\n",
        "ridge = Ridge(alpha=0.001)\n",
        "ridge.fit(X_train,y_train)\n",
        "#evalucate optimal Ridge model\n",
        "y_pred_ridge-ridge.predict(X_test)\n",
        "print(\"MSE(Ridge model:)\",mean_squared_error(y_test,y_pred_ridge))\n",
        "print(\"R2(Ridge model:)\",r2_score(y_test,y_pred_ridge))"
      ],
      "metadata": {
        "colab": {
          "base_uri": "https://localhost:8080/"
        },
        "id": "3Sqw4Lohqwcv",
        "outputId": "399c8092-e1eb-4028-c9a3-c2f5cd060223"
      },
      "execution_count": null,
      "outputs": [
        {
          "output_type": "stream",
          "name": "stdout",
          "text": [
            "MSE(Ridge model:) 51201.61527946954\n",
            "R2(Ridge model:) 0.8545298882689989\n"
          ]
        }
      ]
    },
    {
      "cell_type": "code",
      "source": [
        "# hyperparameter tuning in Lasso model\n",
        "possible_alpha = [0.001, 0.01, 0.1, 1, 10, 100, 1000]\n",
        "r2_scores = []\n",
        "for alpha in possible_alpha:\n",
        "  lasso = Lasso(alpha=alpha)\n",
        "  lasso.fit(X_train, y_train)\n",
        "  y_pred_lasso = lasso.predict(X_test)\n",
        "  r2_scores.append(r2_score(y_test, y_pred_lasso))\n",
        "\n",
        "# plot validation curve\n",
        "plt.plot(possible_alpha, r2_scores, marker=\"o\")\n",
        "plt.xlabel(\"alpha\")\n",
        "plt.ylabel(\"R2 score\")\n",
        "plt.title(\"Validation curve for Lasso model\")\n",
        "plt.show()"
      ],
      "metadata": {
        "colab": {
          "base_uri": "https://localhost:8080/",
          "height": 472
        },
        "id": "ej16C7lWrJ4Y",
        "outputId": "bb8eceeb-9cb3-4078-9d78-c8f0faffb47e"
      },
      "execution_count": null,
      "outputs": [
        {
          "output_type": "display_data",
          "data": {
            "text/plain": [
              "<Figure size 640x480 with 1 Axes>"
            ],
            "image/png": "[encoded data removed]"
          },
          "metadata": {}
        }
      ]
    },
    {
      "cell_type": "code",
      "source": [
        "print(\"r2 scores:\", r2_scores)\n",
        "print(\"possible alpha:\", possible_alpha)"
      ],
      "metadata": {
        "colab": {
          "base_uri": "https://localhost:8080/"
        },
        "id": "WEO1RLjrrze2",
        "outputId": "bda5979e-233c-4679-d272-267f3e12187f"
      },
      "execution_count": null,
      "outputs": [
        {
          "output_type": "stream",
          "name": "stdout",
          "text": [
            "r2 scores: [0.9094727428333649, 0.9094693332137158, 0.909435168832309, 0.9090904616112039, 0.9055996780357902, 0.8600883606423331, 0.8281813480782125]\n",
            "possible alpha: [0.001, 0.01, 0.1, 1, 10, 100, 1000]\n"
          ]
        }
      ]
    },
    {
      "cell_type": "code",
      "source": [
        "#when find the best \"alpha\"\n",
        "lasso= Lasso(alpha=0.001)\n",
        "lasso.fit(X_train,y_train)\n",
        "#evalucate optimal Lasso model\n",
        "y_pred_lasso-lasso.predict(X_test)\n",
        "print(\"MSE(Lasso model:)\",mean_squared_error(y_test,y_pred_lasso))\n",
        "print(\"R2(Lasso model:)\",r2_score(y_test,y_pred_lasso))"
      ],
      "metadata": {
        "colab": {
          "base_uri": "https://localhost:8080/"
        },
        "id": "pXtanjfTr-2f",
        "outputId": "68f36a2f-bee2-4aad-f99d-402a08de1581"
      },
      "execution_count": null,
      "outputs": [
        {
          "output_type": "stream",
          "name": "stdout",
          "text": [
            "MSE(Lasso model:) 60475.60154352752\n",
            "R2(Lasso model:) 0.8281813480782125\n"
          ]
        }
      ]
    }
  ]
}